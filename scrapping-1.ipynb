{
 "cells": [
  {
   "cell_type": "code",
   "execution_count": 21,
   "id": "7e4bad98",
   "metadata": {},
   "outputs": [
    {
     "name": "stdout",
     "output_type": "stream",
     "text": [
      "Requirement already satisfied: instaloader in c:\\users\\om\\anaconda3\\lib\\site-packages (4.10.3)\n",
      "Requirement already satisfied: requests>=2.4 in c:\\users\\om\\anaconda3\\lib\\site-packages (from instaloader) (2.25.1)\n",
      "Requirement already satisfied: certifi>=2017.4.17 in c:\\users\\om\\anaconda3\\lib\\site-packages (from requests>=2.4->instaloader) (2020.12.5)\n",
      "Requirement already satisfied: chardet<5,>=3.0.2 in c:\\users\\om\\anaconda3\\lib\\site-packages (from requests>=2.4->instaloader) (4.0.0)\n",
      "Requirement already satisfied: idna<3,>=2.5 in c:\\users\\om\\anaconda3\\lib\\site-packages (from requests>=2.4->instaloader) (2.10)\n",
      "Requirement already satisfied: urllib3<1.27,>=1.21.1 in c:\\users\\om\\anaconda3\\lib\\site-packages (from requests>=2.4->instaloader) (1.26.4)\n",
      "Note: you may need to restart the kernel to use updated packages.\n"
     ]
    }
   ],
   "source": [
    "pip install instaloader\n"
   ]
  },
  {
   "cell_type": "code",
   "execution_count": 2,
   "id": "f20b3af0",
   "metadata": {
    "scrolled": true
   },
   "outputs": [
    {
     "name": "stdout",
     "output_type": "stream",
     "text": [
      "Requirement already satisfied: win_unicode_console in c:\\users\\om\\anaconda3\\lib\\site-packages (0.5)\n",
      "Note: you may need to restart the kernel to use updated packages.\n"
     ]
    }
   ],
   "source": [
    "pip install --upgrade win_unicode_console\n"
   ]
  },
  {
   "cell_type": "code",
   "execution_count": 10,
   "id": "7eb5538b",
   "metadata": {
    "scrolled": true
   },
   "outputs": [
    {
     "name": "stdout",
     "output_type": "stream",
     "text": [
      "Requirement already satisfied: instagramy in c:\\users\\om\\anaconda3\\lib\\site-packages (4.5)\n",
      "Note: you may need to restart the kernel to use updated packages.\n"
     ]
    }
   ],
   "source": [
    "pip install --upgrade instagramy"
   ]
  },
  {
   "cell_type": "code",
   "execution_count": null,
   "id": "c923206a",
   "metadata": {},
   "outputs": [],
   "source": []
  },
  {
   "cell_type": "code",
   "execution_count": 14,
   "id": "363aae0d",
   "metadata": {},
   "outputs": [
    {
     "name": "stdout",
     "output_type": "stream",
     "text": [
      "Standard Input Encoding cp1252\n",
      "Standard Output Encoding: UTF-8\n",
      "Unexpected Error occurred: name 'target_dir' is not defined\n"
     ]
    }
   ],
   "source": [
    "##This Module has an Error:\n",
    "\n",
    "import sys \n",
    "print(\"Standard Input Encoding\", sys.stdin.encoding)\n",
    "print(\"Standard Output Encoding:\",sys.stdout.encoding)\n",
    "\n",
    "import os\n",
    "from instagramy import InstagramUser\n",
    "\n",
    "username = 'haz.ym_'\n",
    "\n",
    "try:\n",
    "    target_directory = r'C:\\Users\\om\\Desktop\\images\\1st'\n",
    "    \n",
    "    os.makedirs(target_directory, exist_ok=True)\n",
    "    \n",
    "    loader = instaloader.Instaloader()\n",
    "    \n",
    "    profile = instaloader.Profile.from_username(loader.context, username)\n",
    "    posts = profile.get_posts()\n",
    "    \n",
    "    for post in posts:\n",
    "        if not post.is_video:\n",
    "            loader.download_post(post, target=target_dir)\n",
    "            \n",
    "    print(\"Post Downloaded Successfully\")\n",
    "        \n",
    "except ValueError as ve:\n",
    "    print(f\"ValueError occurred: {ve}\")\n",
    "    \n",
    "except KeyError as ke:\n",
    "    print(f\"KeyError : {ke}\")\n",
    "    \n",
    "except Exception as e:\n",
    "    print(f\"Unexpected Error occurred: {e}\")"
   ]
  },
  {
   "cell_type": "code",
   "execution_count": 4,
   "id": "10e8ab03",
   "metadata": {},
   "outputs": [
    {
     "name": "stdout",
     "output_type": "stream",
     "text": [
      "1st\\2024-02-11_07-32-36_UTC_1.jpg exists 1st\\2024-02-11_07-32-36_UTC_2.jpg exists 1st\\2024-02-11_07-32-36_UTC_3.jpg exists 1st\\2024-02-11_07-32-36_UTC_4.jpg exists 1st\\2024-02-11_07-32-36_UTC_5.jpg exists 1st\\2024-02-11_07-32-36_UTC_6.jpg exists [in my element . . . . . . . .…] unchanged json \n",
      "1st\\2023-12-19_10-07-28_UTC_1.jpg exists 1st\\2023-12-19_10-07-28_UTC_2.jpg exists 1st\\2023-12-19_10-07-28_UTC_3.jpg exists 1st\\2023-12-19_10-07-28_UTC_4.jpg exists 1st\\2023-12-19_10-07-28_UTC_4.mp4 exists 1st\\2023-12-19_10-07-28_UTC_5.jpg exists [- An avg Wednesday night in D…] unchanged json \n",
      "1st\\2024-02-07_05-39-24_UTC_1.jpg exists 1st\\2024-02-07_05-39-24_UTC_2.jpg exists 1st\\2024-02-07_05-39-24_UTC_3.jpg exists 1st\\2024-02-07_05-39-24_UTC_4.jpg exists 1st\\2024-02-07_05-39-24_UTC_5.jpg exists 1st\\2024-02-07_05-39-24_UTC_6.jpg exists 1st\\2024-02-07_05-39-24_UTC_7.jpg exists 1st\\2024-02-07_05-39-24_UTC_8.jpg exists [Purani dilli drip🫦 . . . . . …] unchanged json \n",
      "1st\\2024-01-14_11-27-52_UTC_1.jpg exists 1st\\2024-01-14_11-27-52_UTC_2.jpg exists 1st\\2024-01-14_11-27-52_UTC_3.jpg exists 1st\\2024-01-14_11-27-52_UTC_4.jpg exists 1st\\2024-01-14_11-27-52_UTC_5.jpg exists 1st\\2024-01-14_11-27-52_UTC_6.jpg exists 1st\\2024-01-14_11-27-52_UTC_7.jpg exists 1st\\2024-01-14_11-27-52_UTC_8.jpg exists [giving bollywood vibes📸 #fyp …] unchanged json \n",
      "1st\\2024-01-10_12-32-51_UTC_1.jpg exists 1st\\2024-01-10_12-32-51_UTC_2.jpg exists 1st\\2024-01-10_12-32-51_UTC_3.jpg exists 1st\\2024-01-10_12-32-51_UTC_4.jpg exists 1st\\2024-01-10_12-32-51_UTC_5.jpg exists [heavy fit day. . . . . . . . …] unchanged json \n",
      "1st\\2023-12-25_12-40-20_UTC_1.jpg exists 1st\\2023-12-25_12-40-20_UTC_2.jpg exists 1st\\2023-12-25_12-40-20_UTC_3.jpg exists 1st\\2023-12-25_12-40-20_UTC_4.jpg exists [Santa decided to ditch Red th…] unchanged json \n",
      "1st\\2023-12-11_17-37-34_UTC.jpg exists [Soft boy aesthetics💙 #fyp #ex…] unchanged json \n",
      "1st\\2023-11-26_15-14-42_UTC_1.jpg exists 1st\\2023-11-26_15-14-42_UTC_2.jpg exists 1st\\2023-11-26_15-14-42_UTC_3.jpg exists 1st\\2023-11-26_15-14-42_UTC_4.jpg exists 1st\\2023-11-26_15-14-42_UTC_5.jpg exists 1st\\2023-11-26_15-14-42_UTC_6.jpg exists 1st\\2023-11-26_15-14-42_UTC_7.jpg exists [Who needs a caption when your…] unchanged json \n",
      "1st\\2023-11-23_14-13-56_UTC_1.jpg exists 1st\\2023-11-23_14-13-56_UTC_2.jpg exists 1st\\2023-11-23_14-13-56_UTC_3.jpg exists 1st\\2023-11-23_14-13-56_UTC_4.jpg exists 1st\\2023-11-23_14-13-56_UTC_5.jpg exists 1st\\2023-11-23_14-13-56_UTC_6.jpg exists [⭐️boy era  . . . . . . . . . …] unchanged json \n",
      "1st\\2023-11-03_13-28-58_UTC_1.jpg exists 1st\\2023-11-03_13-28-58_UTC_2.jpg exists [A bit of y2k vibes✨ . . . . .…] unchanged json \n",
      "1st\\2023-10-15_15-45-24_UTC_1.jpg exists 1st\\2023-10-15_15-45-24_UTC_2.jpg exists 1st\\2023-10-15_15-45-24_UTC_3.jpg exists 1st\\2023-10-15_15-45-24_UTC_4.jpg exists 1st\\2023-10-15_15-45-24_UTC_5.jpg exists 1st\\2023-10-15_15-45-24_UTC_6.jpg exists [tee : @alifapprels] unchanged json \n",
      "1st\\2023-10-11_12-51-20_UTC_1.jpg exists 1st\\2023-10-11_12-51-20_UTC_2.jpg exists 1st\\2023-10-11_12-51-20_UTC_3.jpg exists 1st\\2023-10-11_12-51-20_UTC_4.jpg exists 1st\\2023-10-11_12-51-20_UTC_5.jpg exists 1st\\2023-10-11_12-51-20_UTC_6.jpg exists [Dump.] unchanged json \n",
      "1st\\2023-09-23_13-39-35_UTC_1.jpg exists 1st\\2023-09-23_13-39-35_UTC_2.jpg exists 1st\\2023-09-23_13-39-35_UTC_3.jpg exists 1st\\2023-09-23_13-39-35_UTC_4.jpg exists 1st\\2023-09-23_13-39-35_UTC_5.jpg exists [New era ? . . . . . . . . . .…] unchanged json \n",
      "1st\\2023-08-27_13-37-26_UTC_1.jpg exists 1st\\2023-08-27_13-37-26_UTC_2.jpg exists 1st\\2023-08-27_13-37-26_UTC_3.jpg exists 1st\\2023-08-27_13-37-26_UTC_4.jpg exists [Upgrade your style with these…] unchanged json \n",
      "1st\\2023-08-18_15-16-51_UTC.jpg exists [<3  . . . . . . . . . . . . .…] unchanged json \n",
      "1st\\2023-08-10_14-44-05_UTC_1.jpg exists 1st\\2023-08-10_14-44-05_UTC_2.jpg exists 1st\\2023-08-10_14-44-05_UTC_3.jpg exists 1st\\2023-08-10_14-44-05_UTC_4.jpg exists [your best view of the day >> …] unchanged json \n",
      "1st\\2023-06-12_08-42-49_UTC_1.jpg exists 1st\\2023-06-12_08-42-49_UTC_2.jpg exists 1st\\2023-06-12_08-42-49_UTC_3.jpg exists 1st\\2023-06-12_08-42-49_UTC_4.jpg exists [We could get lost in the purp…] unchanged json \n",
      "1st\\2023-01-31_14-50-59_UTC_1.jpg exists 1st\\2023-01-31_14-50-59_UTC_2.jpg exists 1st\\2023-01-31_14-50-59_UTC_3.jpg exists [We are only a moment🀄️ . . . …] unchanged json \n",
      "1st\\2023-01-20_14-37-40_UTC.jpg exists [Look where you lost.  . . . .…] unchanged json \n",
      "1st\\2023-01-18_17-10-14_UTC_1.jpg exists 1st\\2023-01-18_17-10-14_UTC_2.jpg exists 1st\\2023-01-18_17-10-14_UTC_3.jpg exists 1st\\2023-01-18_17-10-14_UTC_4.jpg exists 1st\\2023-01-18_17-10-14_UTC_5.jpg exists 1st\\2023-01-18_17-10-14_UTC_6.jpg exists [✨الساعة الذهبية  . . . . . . …] unchanged json \n",
      "1st\\2022-12-31_17-21-58_UTC.jpg exists [< . . . . . . . . . . . . . .…] unchanged json \n",
      "1st\\2022-12-23_14-04-47_UTC_1.jpg exists 1st\\2022-12-23_14-04-47_UTC_2.jpg exists 1st\\2022-12-23_14-04-47_UTC_3.jpg exists 1st\\2022-12-23_14-04-47_UTC_4.jpg exists 1st\\2022-12-23_14-04-47_UTC_5.jpg exists 1st\\2022-12-23_14-04-47_UTC_6.jpg exists 1st\\2022-12-23_14-04-47_UTC_7.jpg exists [Grace over grudges ⛓️ . . . .…] unchanged json \n",
      "1st\\2022-12-20_16-07-58_UTC_1.jpg exists 1st\\2022-12-20_16-07-58_UTC_2.jpg exists 1st\\2022-12-20_16-07-58_UTC_3.jpg exists [No bad days . . . . . . . . .…] unchanged json \n",
      "1st\\2022-11-29_16-21-29_UTC_1.jpg exists 1st\\2022-11-29_16-21-29_UTC_2.jpg exists 1st\\2022-11-29_16-21-29_UTC_3.jpg exists 1st\\2022-11-29_16-21-29_UTC_4.jpg exists 1st\\2022-11-29_16-21-29_UTC_5.jpg exists [Protect your peace.  . . . . …] unchanged json \n",
      "1st\\2022-11-23_17-50-16_UTC_1.jpg exists 1st\\2022-11-23_17-50-16_UTC_2.jpg exists 1st\\2022-11-23_17-50-16_UTC_3.jpg exists 1st\\2022-11-23_17-50-16_UTC_4.jpg exists 1st\\2022-11-23_17-50-16_UTC_5.jpg exists 1st\\2022-11-23_17-50-16_UTC_6.jpg exists 1st\\2022-11-23_17-50-16_UTC_7.jpg exists 1st\\2022-11-23_17-50-16_UTC_8.jpg exists [Update to 21.  . . . . . . . …] unchanged json \n",
      "1st\\2022-11-14_15-16-09_UTC_1.jpg exists 1st\\2022-11-14_15-16-09_UTC_2.jpg exists 1st\\2022-11-14_15-16-09_UTC_3.jpg exists 1st\\2022-11-14_15-16-09_UTC_4.jpg exists 1st\\2022-11-14_15-16-09_UTC_5.jpg exists 1st\\2022-11-14_15-16-09_UTC_6.jpg exists [Lets get away🕊️  . . . . . . …] unchanged json \n",
      "1st\\2022-10-23_15-08-55_UTC_1.jpg exists 1st\\2022-10-23_15-08-55_UTC_2.jpg exists 1st\\2022-10-23_15-08-55_UTC_3.jpg exists 1st\\2022-10-23_15-08-55_UTC_4.jpg exists 1st\\2022-10-23_15-08-55_UTC_5.jpg exists 1st\\2022-10-23_15-08-55_UTC_5.mp4 exists [I found love when I found mys…] unchanged json \n",
      "1st\\2022-09-09_10-03-34_UTC_1.jpg exists 1st\\2022-09-09_10-03-34_UTC_2.jpg exists 1st\\2022-09-09_10-03-34_UTC_3.jpg exists [You didn't sneeze but i bless…] unchanged json \n",
      "1st\\2022-09-06_15-07-47_UTC_1.jpg exists 1st\\2022-09-06_15-07-47_UTC_2.jpg exists [Always grateful 🪐] unchanged json \n",
      "1st\\2022-08-26_10-37-37_UTC_1.jpg exists 1st\\2022-08-26_10-37-37_UTC_2.jpg exists 1st\\2022-08-26_10-37-37_UTC_3.jpg exists [Fifty shades of drip🪐] unchanged json \n",
      "1st\\2022-08-02_15-23-44_UTC_1.jpg exists 1st\\2022-08-02_15-23-44_UTC_2.jpg exists 1st\\2022-08-02_15-23-44_UTC_3.jpg exists [Bad lil' vibe  . . . . . . . …] unchanged json \n",
      "1st\\2022-07-26_09-03-11_UTC_1.jpg exists 1st\\2022-07-26_09-03-11_UTC_2.jpg exists [Summer glow☀️] unchanged json \n",
      "1st\\2021-12-15_14-04-23_UTC_1.jpg exists 1st\\2021-12-15_14-04-23_UTC_2.jpg exists [This story has no end!] unchanged json \n",
      "1st\\2021-05-13_15-22-42_UTC.jpg exists [عید مبارک 🤎✨ . . . . . . . . …] unchanged json \n",
      "1st\\2021-04-16_10-36-34_UTC_1.jpg exists 1st\\2021-04-16_10-36-34_UTC_2.jpg exists 1st\\2021-04-16_10-36-34_UTC_3.jpg exists [Changes are necessary. . . . …] unchanged json \n",
      "1st\\2021-03-26_09-55-02_UTC_1.jpg exists 1st\\2021-03-26_09-55-02_UTC_2.jpg exists [Talk is overrated, let's just…] unchanged json \n",
      "1st\\2021-03-14_15-10-58_UTC.jpg exists [We all suckers for something.…] unchanged json \n",
      "1st\\2021-03-09_14-44-12_UTC.jpg exists [Do no harm Take no shit. . . …] unchanged json \n",
      "1st\\2021-02-28_14-51-04_UTC_1.jpg exists 1st\\2021-02-28_14-51-04_UTC_2.jpg exists [Let me let you go👀 . . . . . …] unchanged json \n"
     ]
    },
    {
     "name": "stdout",
     "output_type": "stream",
     "text": [
      "1st\\2021-02-23_13-47-17_UTC_1.jpg exists 1st\\2021-02-23_13-47-17_UTC_2.jpg exists [Life is so unexpected, Time w…] unchanged json \n",
      "1st\\2021-01-29_14-37-03_UTC.jpg exists [Life's too short to give a sh…] unchanged json \n",
      "1st\\2021-01-27_13-55-21_UTC.jpg exists [Blurry mind and messy thought…] unchanged json \n",
      "1st\\2021-01-23_13-21-38_UTC.jpg exists [My soul has fled to the sky🌠 …] unchanged json \n",
      "1st\\2021-01-20_14-02-58_UTC_1.jpg exists 1st\\2021-01-20_14-02-58_UTC_2.jpg exists [Not everyone likes me, but no…] unchanged json \n",
      "1st\\2020-12-31_13-05-23_UTC.jpg exists [And find the place where ever…] unchanged json \n",
      "Posts Downloaded Successfully\n"
     ]
    }
   ],
   "source": [
    "import instaloader\n",
    "username = 'haz.ym_'\n",
    "\n",
    "# Defining the target directory which will be created within folder\n",
    "target_dir = '1st'\n",
    "    \n",
    "# Ensuring that target directory exists:\n",
    "os.makedirs(target_dir, exist_ok=True)\n",
    "    \n",
    "# Initializing Instaloader\n",
    "loader = instaloader.Instaloader()\n",
    "    \n",
    "# Loading the profie:\n",
    "profile = instaloader.Profile.from_username(loader.context, username)\n",
    "    \n",
    "# Retrieve all posts from the profile\n",
    "posts = profile.get_posts()\n",
    "    \n",
    "# Iterating over each post:\n",
    "for post in posts:\n",
    "    if not post.is_video:\n",
    "        filename = f'{target_dir}\\\\{post.date_utc.strftime(\"%Y-%m-%d_%H-%M-%S\")}_{post.owner_username}.jpg'\n",
    "        loader.download_post(post, target = target_dir)\n",
    "            \n",
    "print(\"Posts Downloaded Successfully\")"
   ]
  },
  {
   "cell_type": "code",
   "execution_count": null,
   "id": "1a14ef4a",
   "metadata": {},
   "outputs": [],
   "source": []
  },
  {
   "cell_type": "code",
   "execution_count": null,
   "id": "7c1b323c",
   "metadata": {},
   "outputs": [],
   "source": []
  }
 ],
 "metadata": {
  "kernelspec": {
   "display_name": "Python 3",
   "language": "python",
   "name": "python3"
  },
  "language_info": {
   "codemirror_mode": {
    "name": "ipython",
    "version": 3
   },
   "file_extension": ".py",
   "mimetype": "text/x-python",
   "name": "python",
   "nbconvert_exporter": "python",
   "pygments_lexer": "ipython3",
   "version": "3.8.8"
  }
 },
 "nbformat": 4,
 "nbformat_minor": 5
}
